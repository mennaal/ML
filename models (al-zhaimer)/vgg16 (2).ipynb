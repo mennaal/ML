{
  "cells": [
    {
      "cell_type": "code",
      "execution_count": 1,
      "metadata": {
        "id": "Tps7IRIsoj7T"
      },
      "outputs": [],
      "source": [
        "from keras.preprocessing.image import ImageDataGenerator\n",
        "from keras.applications.vgg16 import VGG16\n",
        "from keras.models import Model\n",
        "from keras.layers import Dense, Flatten\n",
        "from keras.optimizers import Adam\n",
        "import tensorflow as tf\n",
        "from tensorflow.keras.models import Sequential\n",
        "from tensorflow.keras.layers import Dense, Flatten\n",
        "import tensorflow as tf\n",
        "from tensorflow.keras.models import Sequential\n",
        "from tensorflow.keras.layers import Dense, Flatten, Conv2D, MaxPooling2D\n",
        "from tensorflow.keras.preprocessing import image_dataset_from_directory\n",
        "from tensorflow.keras.layers import Flatten, Dense, Dropout\n",
        "\n",
        "\n"
      ]
    },
    {
      "cell_type": "code",
      "execution_count": 2,
      "metadata": {
        "colab": {
          "base_uri": "https://localhost:8080/"
        },
        "id": "ysjkFoI3omda",
        "outputId": "64810654-6fe4-463d-a654-3f2a003ca942"
      },
      "outputs": [
        {
          "output_type": "stream",
          "name": "stdout",
          "text": [
            "Mounted at /content/drive\n"
          ]
        }
      ],
      "source": [
        "from google.colab import drive\n",
        "drive.mount('/content/drive')"
      ]
    },
    {
      "cell_type": "code",
      "execution_count": null,
      "metadata": {
        "id": "K738bZlIE7FU"
      },
      "outputs": [],
      "source": []
    },
    {
      "cell_type": "code",
      "execution_count": null,
      "metadata": {
        "colab": {
          "base_uri": "https://localhost:8080/"
        },
        "id": "tSzo6Fqio7p3",
        "outputId": "9b1dfb32-4f1f-4dd8-8747-762d5aaf3b2a"
      },
      "outputs": [
        {
          "name": "stdout",
          "output_type": "stream",
          "text": [
            "MyDrive\n"
          ]
        }
      ],
      "source": [
        "!ls '/content/drive'\n"
      ]
    },
    {
      "cell_type": "code",
      "execution_count": null,
      "metadata": {
        "id": "qJ0hSSmjFWcc"
      },
      "outputs": [],
      "source": []
    },
    {
      "cell_type": "code",
      "execution_count": 3,
      "metadata": {
        "id": "OiPhTXcepFmd"
      },
      "outputs": [],
      "source": [
        "#Give dataset path\n",
        "train_path = '/content/drive/MyDrive/archive (6)/Alzheimer_s Dataset/train'\n",
        "test_path = '/content/drive/MyDrive/archive (6)/Alzheimer_s Dataset/test'"
      ]
    },
    {
      "cell_type": "code",
      "execution_count": 4,
      "metadata": {
        "colab": {
          "base_uri": "https://localhost:8080/"
        },
        "id": "-3q1DSI6vAdr",
        "outputId": "b1917e5e-5812-4da2-9db5-5a81b6052b21"
      },
      "outputs": [
        {
          "output_type": "stream",
          "name": "stdout",
          "text": [
            "Found 5121 images belonging to 4 classes.\n",
            "Found 1279 images belonging to 4 classes.\n"
          ]
        }
      ],
      "source": [
        "train_datagen = ImageDataGenerator(rescale=1./255)\n",
        "test_datagen = ImageDataGenerator(rescale=1./255)\n",
        "\n",
        "train_set = train_datagen.flow_from_directory(\n",
        "    train_path,\n",
        "    target_size=(224, 224),\n",
        "    batch_size=32,\n",
        "    class_mode='categorical'  # Adjust based on your dataset\n",
        ")\n",
        "\n",
        "test_set = test_datagen.flow_from_directory(\n",
        "    test_path,\n",
        "    target_size=(224, 224),\n",
        "    batch_size=32,\n",
        "    class_mode='categorical'  # Adjust based on your dataset\n",
        ")"
      ]
    },
    {
      "cell_type": "code",
      "execution_count": 5,
      "metadata": {
        "colab": {
          "base_uri": "https://localhost:8080/"
        },
        "id": "AFXFNZ9jvPNh",
        "outputId": "c349f352-682b-4bb1-d807-b2ab2aef2317"
      },
      "outputs": [
        {
          "output_type": "stream",
          "name": "stdout",
          "text": [
            "Downloading data from https://storage.googleapis.com/tensorflow/keras-applications/vgg16/vgg16_weights_tf_dim_ordering_tf_kernels_notop.h5\n",
            "58889256/58889256 [==============================] - 0s 0us/step\n"
          ]
        },
        {
          "output_type": "stream",
          "name": "stderr",
          "text": [
            "WARNING:absl:`lr` is deprecated in Keras optimizer, please use `learning_rate` or use the legacy optimizer, e.g.,tf.keras.optimizers.legacy.Adam.\n"
          ]
        }
      ],
      "source": [
        "# Load Pretrained VGG16 Model\n",
        "vgg16_base = VGG16(weights='imagenet', include_top=False, input_shape=(224, 224, 3))\n",
        "\n",
        "# Freeze the layers in the base model\n",
        "for layer in vgg16_base.layers:\n",
        "    layer.trainable = False\n",
        "\n",
        "# Add custom layers on top of the base model\n",
        "x = Flatten()(vgg16_base.output)\n",
        "x = Dense(256, activation='relu')(x)\n",
        "x = Dropout(0.5)(x)  # Adding dropout for regularization\n",
        "x = Dense(128, activation='relu')(x)  # Adding another dense layer\n",
        "predictions = Dense(4, activation='softmax')(x)  # Output classes = 4, so using softmax activation\n",
        "\n",
        "\n",
        "# Create the model\n",
        "model = Model(inputs=vgg16_base.input, outputs=predictions)\n",
        "\n",
        "# Compile the model\n",
        "model.compile(optimizer=Adam(lr=0.001), loss='categorical_crossentropy', metrics=['accuracy'])  # Use categorical_crossentropy for multi-class classification"
      ]
    },
    {
      "cell_type": "code",
      "execution_count": null,
      "metadata": {
        "id": "PZ6bJ3FovUYz"
      },
      "outputs": [],
      "source": []
    },
    {
      "cell_type": "code",
      "execution_count": null,
      "metadata": {
        "id": "wKPtnUq2Fuqb"
      },
      "outputs": [],
      "source": []
    },
    {
      "cell_type": "code",
      "execution_count": null,
      "metadata": {
        "id": "1psOR3rnEqQY"
      },
      "outputs": [],
      "source": []
    },
    {
      "cell_type": "code",
      "execution_count": null,
      "metadata": {
        "id": "XJbH47XapP1w"
      },
      "outputs": [],
      "source": []
    },
    {
      "cell_type": "code",
      "execution_count": null,
      "metadata": {
        "id": "vVlveefVpY-1"
      },
      "outputs": [],
      "source": []
    },
    {
      "cell_type": "code",
      "execution_count": null,
      "metadata": {
        "id": "mkFvUDl-4Qx_"
      },
      "outputs": [],
      "source": []
    },
    {
      "cell_type": "code",
      "execution_count": 6,
      "metadata": {
        "colab": {
          "base_uri": "https://localhost:8080/"
        },
        "id": "RrsCG_p7pbLP",
        "outputId": "425275ce-5401-410f-e0a5-a6fd6f5bb07c"
      },
      "outputs": [
        {
          "output_type": "stream",
          "name": "stderr",
          "text": [
            "<ipython-input-6-02ae72a1df19>:2: UserWarning: `Model.fit_generator` is deprecated and will be removed in a future version. Please use `Model.fit`, which supports generators.\n",
            "  history = model.fit_generator(\n"
          ]
        },
        {
          "output_type": "stream",
          "name": "stdout",
          "text": [
            "Epoch 1/30\n",
            "161/161 [==============================] - 1970s 12s/step - loss: 1.1555 - accuracy: 0.4952 - val_loss: 0.9350 - val_accuracy: 0.5113\n",
            "Epoch 2/30\n",
            "161/161 [==============================] - 29s 181ms/step - loss: 0.9575 - accuracy: 0.5296 - val_loss: 0.9252 - val_accuracy: 0.5410\n",
            "Epoch 3/30\n",
            "161/161 [==============================] - 30s 184ms/step - loss: 0.9133 - accuracy: 0.5382 - val_loss: 0.9001 - val_accuracy: 0.5465\n",
            "Epoch 4/30\n",
            "161/161 [==============================] - 30s 184ms/step - loss: 0.8958 - accuracy: 0.5505 - val_loss: 0.8755 - val_accuracy: 0.5895\n",
            "Epoch 5/30\n",
            "161/161 [==============================] - 29s 181ms/step - loss: 0.8608 - accuracy: 0.5804 - val_loss: 0.8666 - val_accuracy: 0.6145\n",
            "Epoch 6/30\n",
            "161/161 [==============================] - 34s 212ms/step - loss: 0.8799 - accuracy: 0.5606 - val_loss: 0.8834 - val_accuracy: 0.6255\n",
            "Epoch 7/30\n",
            "161/161 [==============================] - 29s 181ms/step - loss: 0.8997 - accuracy: 0.5474 - val_loss: 0.8811 - val_accuracy: 0.6067\n",
            "Epoch 8/30\n",
            "161/161 [==============================] - 34s 210ms/step - loss: 0.8998 - accuracy: 0.5284 - val_loss: 0.8925 - val_accuracy: 0.6145\n",
            "Epoch 9/30\n",
            "161/161 [==============================] - 29s 182ms/step - loss: 0.9184 - accuracy: 0.5052 - val_loss: 0.9115 - val_accuracy: 0.5942\n",
            "Epoch 10/30\n",
            "161/161 [==============================] - 30s 184ms/step - loss: 0.9056 - accuracy: 0.5214 - val_loss: 0.9505 - val_accuracy: 0.5809\n",
            "Epoch 11/30\n",
            "161/161 [==============================] - 31s 189ms/step - loss: 0.9194 - accuracy: 0.5013 - val_loss: 0.8950 - val_accuracy: 0.5489\n",
            "Epoch 12/30\n",
            "161/161 [==============================] - 30s 188ms/step - loss: 0.8864 - accuracy: 0.5284 - val_loss: 0.9569 - val_accuracy: 0.6231\n",
            "Epoch 13/30\n",
            "161/161 [==============================] - 34s 212ms/step - loss: 0.9063 - accuracy: 0.5204 - val_loss: 0.9317 - val_accuracy: 0.5856\n",
            "Epoch 14/30\n",
            "161/161 [==============================] - 30s 184ms/step - loss: 0.8767 - accuracy: 0.5347 - val_loss: 0.9119 - val_accuracy: 0.5450\n",
            "Epoch 15/30\n",
            "161/161 [==============================] - 30s 185ms/step - loss: 0.8794 - accuracy: 0.5434 - val_loss: 0.9290 - val_accuracy: 0.5614\n",
            "Epoch 16/30\n",
            "161/161 [==============================] - 30s 187ms/step - loss: 0.9080 - accuracy: 0.5229 - val_loss: 1.0401 - val_accuracy: 0.5004\n",
            "Epoch 17/30\n",
            "161/161 [==============================] - 30s 184ms/step - loss: 1.0379 - accuracy: 0.4999 - val_loss: 1.0339 - val_accuracy: 0.5004\n",
            "Epoch 18/30\n",
            "161/161 [==============================] - 30s 183ms/step - loss: 1.0380 - accuracy: 0.4999 - val_loss: 1.0340 - val_accuracy: 0.5004\n",
            "Epoch 19/30\n",
            "161/161 [==============================] - 30s 183ms/step - loss: 1.0363 - accuracy: 0.4999 - val_loss: 1.0358 - val_accuracy: 0.5004\n",
            "Epoch 20/30\n",
            "161/161 [==============================] - 31s 193ms/step - loss: 1.0368 - accuracy: 0.4999 - val_loss: 1.0358 - val_accuracy: 0.5004\n",
            "Epoch 21/30\n",
            "161/161 [==============================] - 30s 187ms/step - loss: 1.0368 - accuracy: 0.4999 - val_loss: 1.0330 - val_accuracy: 0.5004\n",
            "Epoch 22/30\n",
            "161/161 [==============================] - 34s 210ms/step - loss: 1.0364 - accuracy: 0.4999 - val_loss: 1.0340 - val_accuracy: 0.5004\n",
            "Epoch 23/30\n",
            "161/161 [==============================] - 34s 211ms/step - loss: 1.0373 - accuracy: 0.4999 - val_loss: 1.0332 - val_accuracy: 0.5004\n",
            "Epoch 24/30\n",
            "161/161 [==============================] - 35s 219ms/step - loss: 1.0370 - accuracy: 0.4999 - val_loss: 1.0332 - val_accuracy: 0.5004\n",
            "Epoch 25/30\n",
            "161/161 [==============================] - 31s 194ms/step - loss: 1.0366 - accuracy: 0.4999 - val_loss: 1.0334 - val_accuracy: 0.5004\n",
            "Epoch 26/30\n",
            "161/161 [==============================] - 30s 184ms/step - loss: 1.0372 - accuracy: 0.4999 - val_loss: 1.0331 - val_accuracy: 0.5004\n",
            "Epoch 27/30\n",
            "161/161 [==============================] - 30s 183ms/step - loss: 1.0366 - accuracy: 0.4999 - val_loss: 1.0331 - val_accuracy: 0.5004\n",
            "Epoch 28/30\n",
            "161/161 [==============================] - 31s 192ms/step - loss: 1.0371 - accuracy: 0.4999 - val_loss: 1.0331 - val_accuracy: 0.5004\n",
            "Epoch 29/30\n",
            "161/161 [==============================] - 30s 185ms/step - loss: 1.0370 - accuracy: 0.4999 - val_loss: 1.0341 - val_accuracy: 0.5004\n",
            "Epoch 30/30\n",
            "161/161 [==============================] - 30s 185ms/step - loss: 1.0371 - accuracy: 0.4999 - val_loss: 1.0335 - val_accuracy: 0.5004\n",
            "40/40 [==============================] - 6s 157ms/step - loss: 1.0335 - accuracy: 0.5004\n",
            "Test Accuracy: 0.5003909468650818\n"
          ]
        }
      ],
      "source": [
        "\n",
        "# Fine-tune the model\n",
        "history = model.fit_generator(\n",
        "    train_set,\n",
        "    steps_per_epoch=len(train_set),\n",
        "    epochs=30,\n",
        "    validation_data=test_set,\n",
        "    validation_steps=len(test_set)\n",
        ")\n",
        "# Evaluate the model on the test set\n",
        "test_loss, test_accuracy = model.evaluate(test_set, steps=len(test_set))\n",
        "\n",
        "print(\"Test Accuracy:\", test_accuracy)\n",
        "\n",
        "\n"
      ]
    },
    {
      "cell_type": "code",
      "execution_count": 12,
      "metadata": {
        "id": "YqjcdWe0uQFh"
      },
      "outputs": [],
      "source": [
        "model.save('/content/drive/MyDrive/vgg16beforeedit.h5')"
      ]
    },
    {
      "cell_type": "code",
      "source": [],
      "metadata": {
        "id": "uFXWmLwcXfSl"
      },
      "execution_count": 9,
      "outputs": []
    },
    {
      "cell_type": "code",
      "source": [],
      "metadata": {
        "id": "yqA8TYt7XjKa"
      },
      "execution_count": 9,
      "outputs": []
    },
    {
      "cell_type": "code",
      "source": [],
      "metadata": {
        "id": "rggQAD1zXppK"
      },
      "execution_count": 9,
      "outputs": []
    },
    {
      "cell_type": "code",
      "execution_count": null,
      "metadata": {
        "id": "7fy21aKNOEtm"
      },
      "outputs": [],
      "source": []
    },
    {
      "cell_type": "code",
      "execution_count": null,
      "metadata": {
        "id": "8CbhB95oWweU"
      },
      "outputs": [],
      "source": []
    },
    {
      "cell_type": "code",
      "execution_count": null,
      "metadata": {
        "id": "WHibIjdnW7MI"
      },
      "outputs": [],
      "source": []
    },
    {
      "cell_type": "code",
      "execution_count": null,
      "metadata": {
        "id": "Z6XqRkTMPCsv"
      },
      "outputs": [],
      "source": []
    },
    {
      "cell_type": "code",
      "execution_count": null,
      "metadata": {
        "id": "OAIXEp7vQXtJ"
      },
      "outputs": [],
      "source": []
    }
  ],
  "metadata": {
    "colab": {
      "provenance": [],
      "gpuType": "T4"
    },
    "kernelspec": {
      "display_name": "Python 3",
      "name": "python3"
    },
    "language_info": {
      "name": "python"
    },
    "accelerator": "GPU"
  },
  "nbformat": 4,
  "nbformat_minor": 0
}